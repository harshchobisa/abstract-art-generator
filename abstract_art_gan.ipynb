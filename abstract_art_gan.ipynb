{
 "cells": [
  {
   "cell_type": "code",
   "execution_count": 47,
   "metadata": {},
   "outputs": [],
   "source": [
    "import torch\n",
    "import torch.nn as nn\n",
    "import torch.nn.functional as F\n",
    "import torch.optim as optim\n",
    "from torchvision import transforms\n",
    "from PIL import Image"
   ]
  },
  {
   "cell_type": "code",
   "execution_count": 2,
   "metadata": {},
   "outputs": [],
   "source": [
    "DATA_PATH = \"./data/\""
   ]
  },
  {
   "cell_type": "code",
   "execution_count": 3,
   "metadata": {},
   "outputs": [],
   "source": [
    "def normalize_and_resize_image(image_path):\n",
    "    preprocess = transforms.Compose(\n",
    "        [\n",
    "            transforms.Resize((64, 64)),\n",
    "            transforms.ToTensor(),\n",
    "            transforms.Normalize(mean=[0.485, 0.456, 0.406], std=[0.229, 0.224, 0.225]),\n",
    "        ]\n",
    "    )\n",
    "\n",
    "    image = Image.open(image_path)\n",
    "    image = image.convert(\"RGB\")\n",
    "\n",
    "    input_tensor = preprocess(image)\n",
    "    \n",
    "    return input_tensor"
   ]
  },
  {
   "cell_type": "code",
   "execution_count": 4,
   "metadata": {},
   "outputs": [
    {
     "ename": "NameError",
     "evalue": "name 'image' is not defined",
     "output_type": "error",
     "traceback": [
      "\u001b[0;31m---------------------------------------------------------------------------\u001b[0m",
      "\u001b[0;31mNameError\u001b[0m                                 Traceback (most recent call last)",
      "\u001b[0;32m<ipython-input-4-1a26ed3bc949>\u001b[0m in \u001b[0;36m<module>\u001b[0;34m\u001b[0m\n\u001b[0;32m----> 1\u001b[0;31m \u001b[0mprint\u001b[0m\u001b[0;34m(\u001b[0m\u001b[0mnormalize_and_resize_image\u001b[0m\u001b[0;34m(\u001b[0m\u001b[0mDATA_PATH\u001b[0m \u001b[0;34m+\u001b[0m \u001b[0mimage\u001b[0m\u001b[0;34m)\u001b[0m\u001b[0;34m)\u001b[0m\u001b[0;34m\u001b[0m\u001b[0;34m\u001b[0m\u001b[0m\n\u001b[0m",
      "\u001b[0;31mNameError\u001b[0m: name 'image' is not defined"
     ]
    }
   ],
   "source": [
    "print(normalize_and_resize_image(DATA_PATH + image))"
   ]
  },
  {
   "cell_type": "code",
   "execution_count": 5,
   "metadata": {},
   "outputs": [],
   "source": [
    "class ArtDataset(torch.utils.data.Dataset):\n",
    "    def __init__(self, num_images=2782):\n",
    "        self.size = num_images\n",
    "            \n",
    "\n",
    "    def __getitem__(self, index):\n",
    "        data_path = \"./data/\"\n",
    "        image_path = f\"Abstract_image_{index}.jpg\"\n",
    "        return (normalize_and_resize_image(data_path + image_path), 1)\n",
    "\n",
    "    def __len__(self):\n",
    "        return self.size\n"
   ]
  },
  {
   "cell_type": "code",
   "execution_count": 6,
   "metadata": {},
   "outputs": [],
   "source": [
    "train_dataset = ArtDataset()\n",
    "train_dataloader = torch.utils.data.DataLoader(\n",
    "        train_dataset, batch_size=16, shuffle=True\n",
    "    )"
   ]
  },
  {
   "cell_type": "code",
   "execution_count": 7,
   "metadata": {},
   "outputs": [
    {
     "name": "stdout",
     "output_type": "stream",
     "text": [
      "[tensor([[[[-0.6965, -0.7650, -1.1247,  ..., -1.1760, -1.1760, -1.1589],\n",
      "          [-0.7993, -0.9192, -1.1760,  ..., -1.1589, -1.1760, -1.1589],\n",
      "          [-0.8849, -1.0219, -1.2617,  ..., -1.1932, -1.1760, -1.1589],\n",
      "          ...,\n",
      "          [-0.4739, -0.6109, -0.4739,  ..., -1.3644, -1.3987, -1.3987],\n",
      "          [-0.2342, -0.5253, -0.3198,  ..., -1.3644, -1.3815, -1.3644],\n",
      "          [-0.1999, -0.6281, -0.3027,  ..., -1.3644, -1.3815, -1.3644]],\n",
      "\n",
      "         [[ 0.0476, -0.0224, -0.5651,  ..., -0.4776, -0.5126, -0.4776],\n",
      "          [-0.0049, -0.1975, -0.6352,  ..., -0.4601, -0.4776, -0.4776],\n",
      "          [-0.0924, -0.2850, -0.7402,  ..., -0.4951, -0.4776, -0.4951],\n",
      "          ...,\n",
      "          [-0.0049, -0.0924,  0.0301,  ..., -1.1429, -1.1779, -1.2129],\n",
      "          [ 0.2227, -0.0399,  0.1877,  ..., -1.1604, -1.1779, -1.1779],\n",
      "          [ 0.1527, -0.2150,  0.1702,  ..., -1.1429, -1.1779, -1.1429]],\n",
      "\n",
      "         [[ 0.8448,  0.7751,  0.3742,  ...,  1.1934,  1.1062,  1.0539],\n",
      "          [ 0.8274,  0.6356,  0.2696,  ...,  1.2282,  1.1759,  1.1411],\n",
      "          [ 0.7751,  0.6008,  0.1999,  ...,  1.2457,  1.1934,  1.1585],\n",
      "          ...,\n",
      "          [ 0.3219,  0.2871,  0.3219,  ..., -0.1312, -0.2184, -0.2707],\n",
      "          [ 0.4614,  0.3568,  0.4265,  ..., -0.1835, -0.2881, -0.2532],\n",
      "          [ 0.3045,  0.1302,  0.4091,  ..., -0.1138, -0.2707, -0.3055]]],\n",
      "\n",
      "\n",
      "        [[[ 1.9235, -0.3027, -1.4672,  ..., -2.0494, -2.0494, -2.0152],\n",
      "          [ 1.9407, -0.2684, -1.2788,  ..., -2.0323, -2.0837, -2.0665],\n",
      "          [ 1.9235, -0.3198, -1.1760,  ..., -2.0665, -2.0837, -1.8439],\n",
      "          ...,\n",
      "          [ 0.4508,  0.5193,  0.5878,  ...,  0.8961,  0.8789,  0.8789],\n",
      "          [ 0.3823,  0.4508,  0.5193,  ...,  0.7933,  0.7762,  0.7933],\n",
      "          [ 0.2624,  0.3481,  0.3994,  ...,  0.7248,  0.6563,  0.6049]],\n",
      "\n",
      "         [[ 2.0259, -0.3550, -1.7556,  ..., -1.9657, -1.9657, -1.9307],\n",
      "          [ 2.0609, -0.3200, -1.4930,  ..., -1.9657, -2.0182, -1.9832],\n",
      "          [ 2.0259, -0.3901, -1.4055,  ..., -2.0182, -2.0007, -1.7556],\n",
      "          ...,\n",
      "          [ 0.6078,  0.6604,  0.7129,  ...,  1.0280,  1.0280,  1.0105],\n",
      "          [ 0.5378,  0.6078,  0.6954,  ...,  0.9405,  0.9405,  0.9230],\n",
      "          [ 0.4153,  0.4853,  0.5553,  ...,  0.8529,  0.7479,  0.6779]],\n",
      "\n",
      "         [[ 2.2043,  0.0431, -0.9504,  ..., -1.1073, -1.0898, -1.2990],\n",
      "          [ 2.1520,  0.1825, -0.4450,  ..., -0.7413, -0.9853, -1.2119],\n",
      "          [ 2.1520,  0.1302, -0.4798,  ..., -1.0027, -1.0898, -0.8284],\n",
      "          ...,\n",
      "          [ 1.1759,  1.2282,  1.2631,  ...,  1.4025,  1.4200,  1.4374],\n",
      "          [ 1.1062,  1.1759,  1.2282,  ...,  1.2980,  1.3154,  1.3328],\n",
      "          [ 0.9842,  1.0714,  1.1411,  ...,  1.2805,  1.1585,  1.1062]]],\n",
      "\n",
      "\n",
      "        [[[ 1.5982,  1.6667,  1.7523,  ...,  1.2899,  1.3413,  1.3755],\n",
      "          [ 1.5639,  1.5982,  1.6495,  ...,  1.2728,  1.3070,  1.3070],\n",
      "          [ 1.5810,  1.5810,  1.6495,  ...,  1.2899,  1.3413,  1.2899],\n",
      "          ...,\n",
      "          [-0.2513, -0.3027, -0.0801,  ..., -0.3883, -0.5767, -0.6281],\n",
      "          [-0.5767, -0.4226, -0.2513,  ...,  0.1426, -0.1314, -0.1828],\n",
      "          [-0.6452, -0.7308, -0.6452,  ...,  0.1254,  0.0227,  0.1597]],\n",
      "\n",
      "         [[-0.0399, -0.0574, -0.0224,  ..., -0.5476, -0.4951, -0.4426],\n",
      "          [-0.1625, -0.1800, -0.1800,  ..., -0.7927, -0.7227, -0.6877],\n",
      "          [-0.1625, -0.1975, -0.1800,  ..., -0.8978, -0.8102, -0.8277],\n",
      "          ...,\n",
      "          [-1.3179, -1.4055, -1.3880,  ..., -1.1078, -1.1078, -0.9328],\n",
      "          [-1.3880, -1.4230, -1.4580,  ..., -0.6702, -0.8452, -0.6877],\n",
      "          [-1.4055, -1.4755, -1.5455,  ..., -0.8277, -0.7577, -0.3550]],\n",
      "\n",
      "         [[-1.0724, -1.1073, -1.1073,  ..., -1.4384, -1.4733, -1.4559],\n",
      "          [-1.2119, -1.2467, -1.2641,  ..., -1.6127, -1.6476, -1.6476],\n",
      "          [-1.1770, -1.2293, -1.2293,  ..., -1.6476, -1.6824, -1.6476],\n",
      "          ...,\n",
      "          [-1.2293, -1.3339, -1.2990,  ..., -1.1770, -1.1247, -0.8807],\n",
      "          [-1.2641, -1.3164, -1.3164,  ..., -0.7936, -0.9504, -0.7413],\n",
      "          [-1.2467, -1.3164, -1.3513,  ..., -0.8110, -0.8284, -0.4275]]],\n",
      "\n",
      "\n",
      "        ...,\n",
      "\n",
      "\n",
      "        [[[ 1.4098,  1.3755,  1.4098,  ...,  1.4098,  1.0673, -0.8507],\n",
      "          [ 1.3070,  1.2899,  1.2899,  ...,  1.3755,  0.8104, -1.0904],\n",
      "          [ 1.3070,  1.2728,  1.3070,  ...,  1.3413,  0.7591, -1.0390],\n",
      "          ...,\n",
      "          [ 1.2899,  1.3242,  1.2899,  ...,  1.1358,  1.0502, -0.7479],\n",
      "          [ 1.3242,  1.3242,  1.3070,  ...,  1.2043,  1.0159, -0.7822],\n",
      "          [ 1.3413,  1.3755,  1.3242,  ...,  1.1872,  1.0502, -0.7993]],\n",
      "\n",
      "         [[ 1.1681,  1.0280,  0.8354,  ...,  0.7654,  0.6954, -0.1275],\n",
      "          [ 1.0980,  0.8179,  0.6779,  ...,  0.7129,  0.5553, -0.1275],\n",
      "          [ 1.0630,  0.7304,  0.6779,  ...,  0.6954,  0.5553, -0.0399],\n",
      "          ...,\n",
      "          [ 1.0455,  1.0105,  0.9580,  ...,  0.6078,  0.6429, -0.0224],\n",
      "          [ 1.1155,  1.0280,  0.9930,  ...,  0.6254,  0.5728, -0.0924],\n",
      "          [ 1.1506,  1.0980,  1.0630,  ...,  0.6779,  0.6078, -0.1275]],\n",
      "\n",
      "         [[ 1.1062,  0.8971,  0.4962,  ...,  0.4614,  0.5485,  0.8971],\n",
      "          [ 1.0191,  0.6182,  0.3045,  ...,  0.4091,  0.5485,  1.0365],\n",
      "          [ 0.9842,  0.4091,  0.2522,  ...,  0.3916,  0.6531,  1.2282],\n",
      "          ...,\n",
      "          [ 1.0365,  1.0365,  0.9668,  ...,  0.3393,  0.4614,  0.9145],\n",
      "          [ 1.0888,  1.0365,  1.0017,  ...,  0.2871,  0.3742,  0.8448],\n",
      "          [ 1.1237,  1.1062,  1.0714,  ...,  0.3393,  0.3916,  0.7228]]],\n",
      "\n",
      "\n",
      "        [[[ 1.7180,  1.8037,  1.8379,  ...,  1.7865,  1.7523,  1.7180],\n",
      "          [ 1.6153,  1.7180,  1.7352,  ...,  1.6838,  1.6667,  1.5982],\n",
      "          [ 1.6324,  1.6838,  1.7180,  ...,  1.6838,  1.6495,  1.5468],\n",
      "          ...,\n",
      "          [ 1.3755,  1.3584,  1.3927,  ...,  1.4098,  1.3927,  1.3755],\n",
      "          [ 1.3755,  1.3242,  1.3584,  ...,  1.3584,  1.3584,  1.3584],\n",
      "          [ 1.2214,  1.2214,  1.2214,  ...,  1.1358,  1.1700,  1.1529]],\n",
      "\n",
      "         [[ 1.7633,  1.8333,  1.8859,  ...,  1.8333,  1.8158,  1.8158],\n",
      "          [ 1.6933,  1.7983,  1.8333,  ...,  1.7458,  1.7458,  1.6933],\n",
      "          [ 1.6933,  1.7633,  1.7983,  ...,  1.7808,  1.7458,  1.6408],\n",
      "          ...,\n",
      "          [ 1.5357,  1.5182,  1.5007,  ...,  1.4832,  1.4657,  1.4482],\n",
      "          [ 1.4482,  1.4132,  1.4482,  ...,  1.4307,  1.4307,  1.4307],\n",
      "          [ 1.3081,  1.2906,  1.2906,  ...,  1.2381,  1.2381,  1.2556]],\n",
      "\n",
      "         [[ 1.7337,  1.9080,  1.9080,  ...,  1.8557,  1.8557,  1.8208],\n",
      "          [ 1.7337,  1.8905,  1.9080,  ...,  1.8208,  1.8034,  1.7337],\n",
      "          [ 1.7511,  1.8208,  1.8905,  ...,  1.8208,  1.8034,  1.6988],\n",
      "          ...,\n",
      "          [ 1.5420,  1.5768,  1.6117,  ...,  1.6117,  1.5942,  1.5420],\n",
      "          [ 1.5768,  1.5420,  1.5420,  ...,  1.5245,  1.5594,  1.5245],\n",
      "          [ 1.4025,  1.4025,  1.3851,  ...,  1.3154,  1.3677,  1.2980]]],\n",
      "\n",
      "\n",
      "        [[[ 1.5125,  1.4440,  1.4269,  ...,  1.9578,  1.9407,  1.9578],\n",
      "          [ 1.6495,  1.6324,  1.6838,  ...,  1.8379,  1.8722,  1.9235],\n",
      "          [ 1.7523,  1.6324,  1.7694,  ...,  0.9303,  1.8893,  1.9578],\n",
      "          ...,\n",
      "          [-0.0801, -1.5185, -1.5014,  ...,  1.4440,  1.4269,  1.2899],\n",
      "          [-0.4911, -1.7583, -1.6555,  ...,  1.4440,  1.6495,  1.4954],\n",
      "          [-0.7993, -1.7412, -1.3815,  ...,  1.3584,  1.6153,  1.6838]],\n",
      "\n",
      "         [[ 1.6758,  1.6057,  1.6232,  ...,  2.0609,  2.0784,  2.1134],\n",
      "          [ 1.8158,  1.7633,  1.7808,  ...,  1.9209,  2.0259,  2.0784],\n",
      "          [ 1.8508,  1.6232,  1.8333,  ...,  0.8529,  1.9734,  2.1310],\n",
      "          ...,\n",
      "          [ 0.7129, -1.0028, -0.8452,  ...,  1.7108,  1.7983,  1.7458],\n",
      "          [ 0.3452, -1.3529, -0.9153,  ...,  1.6933,  1.9209,  1.8508],\n",
      "          [-0.1099, -1.2129, -0.6877,  ...,  1.6408,  1.8683,  1.9559]],\n",
      "\n",
      "         [[ 1.6117,  1.5768,  1.6117,  ...,  1.9603,  2.0300,  2.1520],\n",
      "          [ 1.8208,  1.7337,  1.8034,  ...,  1.9777,  1.9428,  2.1346],\n",
      "          [ 1.6814,  0.8622,  1.7860,  ...,  1.4548,  2.0474,  2.1694],\n",
      "          ...,\n",
      "          [ 1.3677, -0.0092, -0.6367,  ...,  2.0474,  2.1171,  2.1171],\n",
      "          [ 0.8971, -0.7064, -0.4275,  ...,  2.0648,  2.1171,  2.0823],\n",
      "          [ 0.1999, -0.8284, -0.6018,  ...,  1.9428,  2.0474,  2.1346]]]]), tensor([1, 1, 1, 1, 1, 1, 1, 1, 1, 1, 1, 1, 1, 1, 1, 1])]\n"
     ]
    }
   ],
   "source": [
    "for x in train_dataloader:\n",
    "    print(x)\n",
    "    break"
   ]
  },
  {
   "cell_type": "code",
   "execution_count": 8,
   "metadata": {},
   "outputs": [],
   "source": [
    "class Discriminator(torch.nn.Module):\n",
    "    def __init__(self, layer_sizes=[256, 128, 2], dropout_prob=None, device=None):\n",
    "        super(Discriminator, self).__init__()\n",
    "        self.device = device\n",
    "\n",
    "        if dropout_prob is not None and dropout_prob > 0.5:\n",
    "            print(\"Are you sure dropout_prob is supposed to be greater than 0.5?\")\n",
    "            \n",
    "        self.conv1 = nn.Conv2d(in_channels = 3, out_channels = 64, kernel_size = 4, stride = 2, padding=1)\n",
    "        self.bn1 = nn.BatchNorm2d(64)\n",
    "        self.leakyRelu = nn.LeakyReLU()\n",
    "\n",
    "        self.conv2 = nn.Conv2d(in_channels = 64, out_channels = 128, kernel_size = 4, stride = 2, padding=1)\n",
    "        self.bn2 = nn.BatchNorm2d(128)\n",
    "\n",
    "        self.conv3 = nn.Conv2d(in_channels = 128, out_channels = 256, kernel_size = 4, stride = 2, padding=1)\n",
    "        self.bn3 = nn.BatchNorm2d(256)\n",
    "\n",
    "        self.conv4 = nn.Conv2d(in_channels = 256, out_channels = 512, kernel_size = 4, stride = 2, padding=1)\n",
    "        self.bn4 = nn.BatchNorm2d(512)\n",
    "\n",
    "        self.conv5 = nn.Conv2d(in_channels = 512, out_channels = 1, kernel_size = 4, stride = 1)\n",
    "        self.sig = nn.Sigmoid()\n",
    "\n",
    "\n",
    "    def forward(self, inputs):\n",
    "        x = self.leakyRelu(self.bn1(self.conv1(inputs)))\n",
    "        x = self.leakyRelu(self.bn2(self.conv2(x)))\n",
    "        x = self.leakyRelu(self.bn3(self.conv3(x)))\n",
    "        x = self.leakyRelu(self.bn4(self.conv4(x)))\n",
    "        x = self.conv5(x)\n",
    "        output = self.sig(x)\n",
    "        \n",
    "        return output"
   ]
  },
  {
   "cell_type": "code",
   "execution_count": 20,
   "metadata": {},
   "outputs": [],
   "source": [
    "class Generator(torch.nn.Module):\n",
    "    def __init__(self):\n",
    "        super(Generator, self).__init__()\n",
    "        nc = 3\n",
    "        nz = 100\n",
    "        nf = 64\n",
    "        \n",
    "        self.conv1 = nn.ConvTranspose2d(in_channels=nz,out_channels=nf * 8, kernel_size = 4, stride = 1, padding = 0, bias=False)\n",
    "        self.bn1 = nn.BatchNorm2d(nf * 8)\n",
    "        self.lr1 = nn.LeakyReLU()\n",
    "        # (ngf*8) x 4 x 4\n",
    "\n",
    "        self.conv2 = nn.ConvTranspose2d(in_channels = nf * 8, out_channels = nf * 4, kernel_size = 4, stride = 2, padding = 1, bias=False)\n",
    "        self.bn2 = nn.BatchNorm2d(nf * 4)\n",
    "        self.lr2 = nn.LeakyReLU()\n",
    "        # (ngf*4) x 8 x 8\n",
    "\n",
    "        self.conv3 = nn.ConvTranspose2d(in_channels = nf * 4, out_channels = nf * 2, kernel_size = 4, stride = 2, padding = 1, bias=False)\n",
    "        self.bn3 = nn.BatchNorm2d(nf * 2)\n",
    "        self.lr3 = nn.LeakyReLU()\n",
    "        # (ngf*2) x 16 x 16\n",
    "        \n",
    "        self.conv4 = nn.ConvTranspose2d(in_channels = nf * 2, out_channels = nf, kernel_size = 4, stride = 2, padding = 1, bias=False)\n",
    "        self.bn4 = nn.BatchNorm2d(nf)\n",
    "        self.lr4 = nn.LeakyReLU()\n",
    "        # (ngf) x 32 x 32\n",
    "        \n",
    "        self.conv5 = nn.ConvTranspose2d(in_channels = nf, out_channels = nc, kernel_size = 4, stride = 2, padding = 1, bias=False)\n",
    "        self.tanh = nn.Tanh()\n",
    "        # (nc) x 64 x 64\n",
    "\n",
    "    def forward(self, inputs):\n",
    "        x = self.lr1(self.bn1(self.conv1(inputs)))\n",
    "        x = self.lr2(self.bn2(self.conv2(x)))\n",
    "        x = self.lr3(self.bn3(self.conv3(x)))\n",
    "        x = self.lr4(self.bn4(self.conv4(x)))\n",
    "        x = self.conv5(x)\n",
    "        output = self.tanh(x)\n",
    "        \n",
    "        return output"
   ]
  },
  {
   "cell_type": "code",
   "execution_count": 12,
   "metadata": {},
   "outputs": [
    {
     "name": "stdout",
     "output_type": "stream",
     "text": [
      "0\n",
      "1\n",
      "2\n",
      "3\n",
      "4\n",
      "5\n",
      "6\n",
      "7\n",
      "8\n",
      "9\n",
      "10\n",
      "11\n",
      "12\n",
      "13\n",
      "14\n",
      "15\n",
      "16\n",
      "17\n",
      "18\n",
      "19\n",
      "20\n",
      "21\n",
      "22\n",
      "23\n",
      "24\n",
      "25\n",
      "26\n"
     ]
    },
    {
     "ename": "KeyboardInterrupt",
     "evalue": "",
     "output_type": "error",
     "traceback": [
      "\u001b[0;31m---------------------------------------------------------------------------\u001b[0m",
      "\u001b[0;31mKeyboardInterrupt\u001b[0m                         Traceback (most recent call last)",
      "\u001b[0;32m<ipython-input-12-dfa17e48bb80>\u001b[0m in \u001b[0;36m<module>\u001b[0;34m\u001b[0m\n\u001b[1;32m      1\u001b[0m \u001b[0mmodel\u001b[0m \u001b[0;34m=\u001b[0m \u001b[0mDiscriminator\u001b[0m\u001b[0;34m(\u001b[0m\u001b[0;34m)\u001b[0m\u001b[0;34m\u001b[0m\u001b[0;34m\u001b[0m\u001b[0m\n\u001b[1;32m      2\u001b[0m \u001b[0;34m\u001b[0m\u001b[0m\n\u001b[0;32m----> 3\u001b[0;31m \u001b[0;32mfor\u001b[0m \u001b[0mi\u001b[0m\u001b[0;34m,\u001b[0m \u001b[0mbatch_data\u001b[0m \u001b[0;32min\u001b[0m \u001b[0menumerate\u001b[0m\u001b[0;34m(\u001b[0m\u001b[0mtrain_dataloader\u001b[0m\u001b[0;34m)\u001b[0m\u001b[0;34m:\u001b[0m\u001b[0;34m\u001b[0m\u001b[0;34m\u001b[0m\u001b[0m\n\u001b[0m\u001b[1;32m      4\u001b[0m     \u001b[0mprint\u001b[0m\u001b[0;34m(\u001b[0m\u001b[0mi\u001b[0m\u001b[0;34m)\u001b[0m\u001b[0;34m\u001b[0m\u001b[0;34m\u001b[0m\u001b[0m\n\u001b[1;32m      5\u001b[0m \u001b[0;31m#     print(batch_data)\u001b[0m\u001b[0;34m\u001b[0m\u001b[0;34m\u001b[0m\u001b[0;34m\u001b[0m\u001b[0m\n",
      "\u001b[0;32m/opt/anaconda3/lib/python3.7/site-packages/torch/utils/data/dataloader.py\u001b[0m in \u001b[0;36m__next__\u001b[0;34m(self)\u001b[0m\n\u001b[1;32m    433\u001b[0m         \u001b[0;32mif\u001b[0m \u001b[0mself\u001b[0m\u001b[0;34m.\u001b[0m\u001b[0m_sampler_iter\u001b[0m \u001b[0;32mis\u001b[0m \u001b[0;32mNone\u001b[0m\u001b[0;34m:\u001b[0m\u001b[0;34m\u001b[0m\u001b[0;34m\u001b[0m\u001b[0m\n\u001b[1;32m    434\u001b[0m             \u001b[0mself\u001b[0m\u001b[0;34m.\u001b[0m\u001b[0m_reset\u001b[0m\u001b[0;34m(\u001b[0m\u001b[0;34m)\u001b[0m\u001b[0;34m\u001b[0m\u001b[0;34m\u001b[0m\u001b[0m\n\u001b[0;32m--> 435\u001b[0;31m         \u001b[0mdata\u001b[0m \u001b[0;34m=\u001b[0m \u001b[0mself\u001b[0m\u001b[0;34m.\u001b[0m\u001b[0m_next_data\u001b[0m\u001b[0;34m(\u001b[0m\u001b[0;34m)\u001b[0m\u001b[0;34m\u001b[0m\u001b[0;34m\u001b[0m\u001b[0m\n\u001b[0m\u001b[1;32m    436\u001b[0m         \u001b[0mself\u001b[0m\u001b[0;34m.\u001b[0m\u001b[0m_num_yielded\u001b[0m \u001b[0;34m+=\u001b[0m \u001b[0;36m1\u001b[0m\u001b[0;34m\u001b[0m\u001b[0;34m\u001b[0m\u001b[0m\n\u001b[1;32m    437\u001b[0m         \u001b[0;32mif\u001b[0m \u001b[0mself\u001b[0m\u001b[0;34m.\u001b[0m\u001b[0m_dataset_kind\u001b[0m \u001b[0;34m==\u001b[0m \u001b[0m_DatasetKind\u001b[0m\u001b[0;34m.\u001b[0m\u001b[0mIterable\u001b[0m \u001b[0;32mand\u001b[0m\u001b[0;31m \u001b[0m\u001b[0;31m\\\u001b[0m\u001b[0;34m\u001b[0m\u001b[0;34m\u001b[0m\u001b[0m\n",
      "\u001b[0;32m/opt/anaconda3/lib/python3.7/site-packages/torch/utils/data/dataloader.py\u001b[0m in \u001b[0;36m_next_data\u001b[0;34m(self)\u001b[0m\n\u001b[1;32m    473\u001b[0m     \u001b[0;32mdef\u001b[0m \u001b[0m_next_data\u001b[0m\u001b[0;34m(\u001b[0m\u001b[0mself\u001b[0m\u001b[0;34m)\u001b[0m\u001b[0;34m:\u001b[0m\u001b[0;34m\u001b[0m\u001b[0;34m\u001b[0m\u001b[0m\n\u001b[1;32m    474\u001b[0m         \u001b[0mindex\u001b[0m \u001b[0;34m=\u001b[0m \u001b[0mself\u001b[0m\u001b[0;34m.\u001b[0m\u001b[0m_next_index\u001b[0m\u001b[0;34m(\u001b[0m\u001b[0;34m)\u001b[0m  \u001b[0;31m# may raise StopIteration\u001b[0m\u001b[0;34m\u001b[0m\u001b[0;34m\u001b[0m\u001b[0m\n\u001b[0;32m--> 475\u001b[0;31m         \u001b[0mdata\u001b[0m \u001b[0;34m=\u001b[0m \u001b[0mself\u001b[0m\u001b[0;34m.\u001b[0m\u001b[0m_dataset_fetcher\u001b[0m\u001b[0;34m.\u001b[0m\u001b[0mfetch\u001b[0m\u001b[0;34m(\u001b[0m\u001b[0mindex\u001b[0m\u001b[0;34m)\u001b[0m  \u001b[0;31m# may raise StopIteration\u001b[0m\u001b[0;34m\u001b[0m\u001b[0;34m\u001b[0m\u001b[0m\n\u001b[0m\u001b[1;32m    476\u001b[0m         \u001b[0;32mif\u001b[0m \u001b[0mself\u001b[0m\u001b[0;34m.\u001b[0m\u001b[0m_pin_memory\u001b[0m\u001b[0;34m:\u001b[0m\u001b[0;34m\u001b[0m\u001b[0;34m\u001b[0m\u001b[0m\n\u001b[1;32m    477\u001b[0m             \u001b[0mdata\u001b[0m \u001b[0;34m=\u001b[0m \u001b[0m_utils\u001b[0m\u001b[0;34m.\u001b[0m\u001b[0mpin_memory\u001b[0m\u001b[0;34m.\u001b[0m\u001b[0mpin_memory\u001b[0m\u001b[0;34m(\u001b[0m\u001b[0mdata\u001b[0m\u001b[0;34m)\u001b[0m\u001b[0;34m\u001b[0m\u001b[0;34m\u001b[0m\u001b[0m\n",
      "\u001b[0;32m/opt/anaconda3/lib/python3.7/site-packages/torch/utils/data/_utils/fetch.py\u001b[0m in \u001b[0;36mfetch\u001b[0;34m(self, possibly_batched_index)\u001b[0m\n\u001b[1;32m     42\u001b[0m     \u001b[0;32mdef\u001b[0m \u001b[0mfetch\u001b[0m\u001b[0;34m(\u001b[0m\u001b[0mself\u001b[0m\u001b[0;34m,\u001b[0m \u001b[0mpossibly_batched_index\u001b[0m\u001b[0;34m)\u001b[0m\u001b[0;34m:\u001b[0m\u001b[0;34m\u001b[0m\u001b[0;34m\u001b[0m\u001b[0m\n\u001b[1;32m     43\u001b[0m         \u001b[0;32mif\u001b[0m \u001b[0mself\u001b[0m\u001b[0;34m.\u001b[0m\u001b[0mauto_collation\u001b[0m\u001b[0;34m:\u001b[0m\u001b[0;34m\u001b[0m\u001b[0;34m\u001b[0m\u001b[0m\n\u001b[0;32m---> 44\u001b[0;31m             \u001b[0mdata\u001b[0m \u001b[0;34m=\u001b[0m \u001b[0;34m[\u001b[0m\u001b[0mself\u001b[0m\u001b[0;34m.\u001b[0m\u001b[0mdataset\u001b[0m\u001b[0;34m[\u001b[0m\u001b[0midx\u001b[0m\u001b[0;34m]\u001b[0m \u001b[0;32mfor\u001b[0m \u001b[0midx\u001b[0m \u001b[0;32min\u001b[0m \u001b[0mpossibly_batched_index\u001b[0m\u001b[0;34m]\u001b[0m\u001b[0;34m\u001b[0m\u001b[0;34m\u001b[0m\u001b[0m\n\u001b[0m\u001b[1;32m     45\u001b[0m         \u001b[0;32melse\u001b[0m\u001b[0;34m:\u001b[0m\u001b[0;34m\u001b[0m\u001b[0;34m\u001b[0m\u001b[0m\n\u001b[1;32m     46\u001b[0m             \u001b[0mdata\u001b[0m \u001b[0;34m=\u001b[0m \u001b[0mself\u001b[0m\u001b[0;34m.\u001b[0m\u001b[0mdataset\u001b[0m\u001b[0;34m[\u001b[0m\u001b[0mpossibly_batched_index\u001b[0m\u001b[0;34m]\u001b[0m\u001b[0;34m\u001b[0m\u001b[0;34m\u001b[0m\u001b[0m\n",
      "\u001b[0;32m/opt/anaconda3/lib/python3.7/site-packages/torch/utils/data/_utils/fetch.py\u001b[0m in \u001b[0;36m<listcomp>\u001b[0;34m(.0)\u001b[0m\n\u001b[1;32m     42\u001b[0m     \u001b[0;32mdef\u001b[0m \u001b[0mfetch\u001b[0m\u001b[0;34m(\u001b[0m\u001b[0mself\u001b[0m\u001b[0;34m,\u001b[0m \u001b[0mpossibly_batched_index\u001b[0m\u001b[0;34m)\u001b[0m\u001b[0;34m:\u001b[0m\u001b[0;34m\u001b[0m\u001b[0;34m\u001b[0m\u001b[0m\n\u001b[1;32m     43\u001b[0m         \u001b[0;32mif\u001b[0m \u001b[0mself\u001b[0m\u001b[0;34m.\u001b[0m\u001b[0mauto_collation\u001b[0m\u001b[0;34m:\u001b[0m\u001b[0;34m\u001b[0m\u001b[0;34m\u001b[0m\u001b[0m\n\u001b[0;32m---> 44\u001b[0;31m             \u001b[0mdata\u001b[0m \u001b[0;34m=\u001b[0m \u001b[0;34m[\u001b[0m\u001b[0mself\u001b[0m\u001b[0;34m.\u001b[0m\u001b[0mdataset\u001b[0m\u001b[0;34m[\u001b[0m\u001b[0midx\u001b[0m\u001b[0;34m]\u001b[0m \u001b[0;32mfor\u001b[0m \u001b[0midx\u001b[0m \u001b[0;32min\u001b[0m \u001b[0mpossibly_batched_index\u001b[0m\u001b[0;34m]\u001b[0m\u001b[0;34m\u001b[0m\u001b[0;34m\u001b[0m\u001b[0m\n\u001b[0m\u001b[1;32m     45\u001b[0m         \u001b[0;32melse\u001b[0m\u001b[0;34m:\u001b[0m\u001b[0;34m\u001b[0m\u001b[0;34m\u001b[0m\u001b[0m\n\u001b[1;32m     46\u001b[0m             \u001b[0mdata\u001b[0m \u001b[0;34m=\u001b[0m \u001b[0mself\u001b[0m\u001b[0;34m.\u001b[0m\u001b[0mdataset\u001b[0m\u001b[0;34m[\u001b[0m\u001b[0mpossibly_batched_index\u001b[0m\u001b[0;34m]\u001b[0m\u001b[0;34m\u001b[0m\u001b[0;34m\u001b[0m\u001b[0m\n",
      "\u001b[0;32m<ipython-input-5-5c01a948ae89>\u001b[0m in \u001b[0;36m__getitem__\u001b[0;34m(self, index)\u001b[0m\n\u001b[1;32m      7\u001b[0m         \u001b[0mdata_path\u001b[0m \u001b[0;34m=\u001b[0m \u001b[0;34m\"./data/\"\u001b[0m\u001b[0;34m\u001b[0m\u001b[0;34m\u001b[0m\u001b[0m\n\u001b[1;32m      8\u001b[0m         \u001b[0mimage_path\u001b[0m \u001b[0;34m=\u001b[0m \u001b[0;34mf\"Abstract_image_{index}.jpg\"\u001b[0m\u001b[0;34m\u001b[0m\u001b[0;34m\u001b[0m\u001b[0m\n\u001b[0;32m----> 9\u001b[0;31m         \u001b[0;32mreturn\u001b[0m \u001b[0;34m(\u001b[0m\u001b[0mnormalize_and_resize_image\u001b[0m\u001b[0;34m(\u001b[0m\u001b[0mdata_path\u001b[0m \u001b[0;34m+\u001b[0m \u001b[0mimage_path\u001b[0m\u001b[0;34m)\u001b[0m\u001b[0;34m,\u001b[0m \u001b[0;36m1\u001b[0m\u001b[0;34m)\u001b[0m\u001b[0;34m\u001b[0m\u001b[0;34m\u001b[0m\u001b[0m\n\u001b[0m\u001b[1;32m     10\u001b[0m \u001b[0;34m\u001b[0m\u001b[0m\n\u001b[1;32m     11\u001b[0m     \u001b[0;32mdef\u001b[0m \u001b[0m__len__\u001b[0m\u001b[0;34m(\u001b[0m\u001b[0mself\u001b[0m\u001b[0;34m)\u001b[0m\u001b[0;34m:\u001b[0m\u001b[0;34m\u001b[0m\u001b[0;34m\u001b[0m\u001b[0m\n",
      "\u001b[0;32m<ipython-input-3-66c472fb7429>\u001b[0m in \u001b[0;36mnormalize_and_resize_image\u001b[0;34m(image_path)\u001b[0m\n\u001b[1;32m     11\u001b[0m     \u001b[0mimage\u001b[0m \u001b[0;34m=\u001b[0m \u001b[0mimage\u001b[0m\u001b[0;34m.\u001b[0m\u001b[0mconvert\u001b[0m\u001b[0;34m(\u001b[0m\u001b[0;34m\"RGB\"\u001b[0m\u001b[0;34m)\u001b[0m\u001b[0;34m\u001b[0m\u001b[0;34m\u001b[0m\u001b[0m\n\u001b[1;32m     12\u001b[0m \u001b[0;34m\u001b[0m\u001b[0m\n\u001b[0;32m---> 13\u001b[0;31m     \u001b[0minput_tensor\u001b[0m \u001b[0;34m=\u001b[0m \u001b[0mpreprocess\u001b[0m\u001b[0;34m(\u001b[0m\u001b[0mimage\u001b[0m\u001b[0;34m)\u001b[0m\u001b[0;34m\u001b[0m\u001b[0;34m\u001b[0m\u001b[0m\n\u001b[0m\u001b[1;32m     14\u001b[0m \u001b[0;34m\u001b[0m\u001b[0m\n\u001b[1;32m     15\u001b[0m     \u001b[0;32mreturn\u001b[0m \u001b[0minput_tensor\u001b[0m\u001b[0;34m\u001b[0m\u001b[0;34m\u001b[0m\u001b[0m\n",
      "\u001b[0;32m/opt/anaconda3/lib/python3.7/site-packages/torchvision/transforms/transforms.py\u001b[0m in \u001b[0;36m__call__\u001b[0;34m(self, img)\u001b[0m\n\u001b[1;32m     65\u001b[0m     \u001b[0;32mdef\u001b[0m \u001b[0m__call__\u001b[0m\u001b[0;34m(\u001b[0m\u001b[0mself\u001b[0m\u001b[0;34m,\u001b[0m \u001b[0mimg\u001b[0m\u001b[0;34m)\u001b[0m\u001b[0;34m:\u001b[0m\u001b[0;34m\u001b[0m\u001b[0;34m\u001b[0m\u001b[0m\n\u001b[1;32m     66\u001b[0m         \u001b[0;32mfor\u001b[0m \u001b[0mt\u001b[0m \u001b[0;32min\u001b[0m \u001b[0mself\u001b[0m\u001b[0;34m.\u001b[0m\u001b[0mtransforms\u001b[0m\u001b[0;34m:\u001b[0m\u001b[0;34m\u001b[0m\u001b[0;34m\u001b[0m\u001b[0m\n\u001b[0;32m---> 67\u001b[0;31m             \u001b[0mimg\u001b[0m \u001b[0;34m=\u001b[0m \u001b[0mt\u001b[0m\u001b[0;34m(\u001b[0m\u001b[0mimg\u001b[0m\u001b[0;34m)\u001b[0m\u001b[0;34m\u001b[0m\u001b[0;34m\u001b[0m\u001b[0m\n\u001b[0m\u001b[1;32m     68\u001b[0m         \u001b[0;32mreturn\u001b[0m \u001b[0mimg\u001b[0m\u001b[0;34m\u001b[0m\u001b[0;34m\u001b[0m\u001b[0m\n\u001b[1;32m     69\u001b[0m \u001b[0;34m\u001b[0m\u001b[0m\n",
      "\u001b[0;32m/opt/anaconda3/lib/python3.7/site-packages/torch/nn/modules/module.py\u001b[0m in \u001b[0;36m_call_impl\u001b[0;34m(self, *input, **kwargs)\u001b[0m\n\u001b[1;32m    725\u001b[0m             \u001b[0mresult\u001b[0m \u001b[0;34m=\u001b[0m \u001b[0mself\u001b[0m\u001b[0;34m.\u001b[0m\u001b[0m_slow_forward\u001b[0m\u001b[0;34m(\u001b[0m\u001b[0;34m*\u001b[0m\u001b[0minput\u001b[0m\u001b[0;34m,\u001b[0m \u001b[0;34m**\u001b[0m\u001b[0mkwargs\u001b[0m\u001b[0;34m)\u001b[0m\u001b[0;34m\u001b[0m\u001b[0;34m\u001b[0m\u001b[0m\n\u001b[1;32m    726\u001b[0m         \u001b[0;32melse\u001b[0m\u001b[0;34m:\u001b[0m\u001b[0;34m\u001b[0m\u001b[0;34m\u001b[0m\u001b[0m\n\u001b[0;32m--> 727\u001b[0;31m             \u001b[0mresult\u001b[0m \u001b[0;34m=\u001b[0m \u001b[0mself\u001b[0m\u001b[0;34m.\u001b[0m\u001b[0mforward\u001b[0m\u001b[0;34m(\u001b[0m\u001b[0;34m*\u001b[0m\u001b[0minput\u001b[0m\u001b[0;34m,\u001b[0m \u001b[0;34m**\u001b[0m\u001b[0mkwargs\u001b[0m\u001b[0;34m)\u001b[0m\u001b[0;34m\u001b[0m\u001b[0;34m\u001b[0m\u001b[0m\n\u001b[0m\u001b[1;32m    728\u001b[0m         for hook in itertools.chain(\n\u001b[1;32m    729\u001b[0m                 \u001b[0m_global_forward_hooks\u001b[0m\u001b[0;34m.\u001b[0m\u001b[0mvalues\u001b[0m\u001b[0;34m(\u001b[0m\u001b[0;34m)\u001b[0m\u001b[0;34m,\u001b[0m\u001b[0;34m\u001b[0m\u001b[0;34m\u001b[0m\u001b[0m\n",
      "\u001b[0;32m/opt/anaconda3/lib/python3.7/site-packages/torchvision/transforms/transforms.py\u001b[0m in \u001b[0;36mforward\u001b[0;34m(self, img)\u001b[0m\n\u001b[1;32m    265\u001b[0m             \u001b[0mPIL\u001b[0m \u001b[0mImage\u001b[0m \u001b[0;32mor\u001b[0m \u001b[0mTensor\u001b[0m\u001b[0;34m:\u001b[0m \u001b[0mRescaled\u001b[0m \u001b[0mimage\u001b[0m\u001b[0;34m.\u001b[0m\u001b[0;34m\u001b[0m\u001b[0;34m\u001b[0m\u001b[0m\n\u001b[1;32m    266\u001b[0m         \"\"\"\n\u001b[0;32m--> 267\u001b[0;31m         \u001b[0;32mreturn\u001b[0m \u001b[0mF\u001b[0m\u001b[0;34m.\u001b[0m\u001b[0mresize\u001b[0m\u001b[0;34m(\u001b[0m\u001b[0mimg\u001b[0m\u001b[0;34m,\u001b[0m \u001b[0mself\u001b[0m\u001b[0;34m.\u001b[0m\u001b[0msize\u001b[0m\u001b[0;34m,\u001b[0m \u001b[0mself\u001b[0m\u001b[0;34m.\u001b[0m\u001b[0minterpolation\u001b[0m\u001b[0;34m)\u001b[0m\u001b[0;34m\u001b[0m\u001b[0;34m\u001b[0m\u001b[0m\n\u001b[0m\u001b[1;32m    268\u001b[0m \u001b[0;34m\u001b[0m\u001b[0m\n\u001b[1;32m    269\u001b[0m     \u001b[0;32mdef\u001b[0m \u001b[0m__repr__\u001b[0m\u001b[0;34m(\u001b[0m\u001b[0mself\u001b[0m\u001b[0;34m)\u001b[0m\u001b[0;34m:\u001b[0m\u001b[0;34m\u001b[0m\u001b[0;34m\u001b[0m\u001b[0m\n",
      "\u001b[0;32m/opt/anaconda3/lib/python3.7/site-packages/torchvision/transforms/functional.py\u001b[0m in \u001b[0;36mresize\u001b[0;34m(img, size, interpolation)\u001b[0m\n\u001b[1;32m    308\u001b[0m     \"\"\"\n\u001b[1;32m    309\u001b[0m     \u001b[0;32mif\u001b[0m \u001b[0;32mnot\u001b[0m \u001b[0misinstance\u001b[0m\u001b[0;34m(\u001b[0m\u001b[0mimg\u001b[0m\u001b[0;34m,\u001b[0m \u001b[0mtorch\u001b[0m\u001b[0;34m.\u001b[0m\u001b[0mTensor\u001b[0m\u001b[0;34m)\u001b[0m\u001b[0;34m:\u001b[0m\u001b[0;34m\u001b[0m\u001b[0;34m\u001b[0m\u001b[0m\n\u001b[0;32m--> 310\u001b[0;31m         \u001b[0;32mreturn\u001b[0m \u001b[0mF_pil\u001b[0m\u001b[0;34m.\u001b[0m\u001b[0mresize\u001b[0m\u001b[0;34m(\u001b[0m\u001b[0mimg\u001b[0m\u001b[0;34m,\u001b[0m \u001b[0msize\u001b[0m\u001b[0;34m=\u001b[0m\u001b[0msize\u001b[0m\u001b[0;34m,\u001b[0m \u001b[0minterpolation\u001b[0m\u001b[0;34m=\u001b[0m\u001b[0minterpolation\u001b[0m\u001b[0;34m)\u001b[0m\u001b[0;34m\u001b[0m\u001b[0;34m\u001b[0m\u001b[0m\n\u001b[0m\u001b[1;32m    311\u001b[0m \u001b[0;34m\u001b[0m\u001b[0m\n\u001b[1;32m    312\u001b[0m     \u001b[0;32mreturn\u001b[0m \u001b[0mF_t\u001b[0m\u001b[0;34m.\u001b[0m\u001b[0mresize\u001b[0m\u001b[0;34m(\u001b[0m\u001b[0mimg\u001b[0m\u001b[0;34m,\u001b[0m \u001b[0msize\u001b[0m\u001b[0;34m=\u001b[0m\u001b[0msize\u001b[0m\u001b[0;34m,\u001b[0m \u001b[0minterpolation\u001b[0m\u001b[0;34m=\u001b[0m\u001b[0minterpolation\u001b[0m\u001b[0;34m)\u001b[0m\u001b[0;34m\u001b[0m\u001b[0;34m\u001b[0m\u001b[0m\n",
      "\u001b[0;32m/opt/anaconda3/lib/python3.7/site-packages/torchvision/transforms/functional_pil.py\u001b[0m in \u001b[0;36mresize\u001b[0;34m(img, size, interpolation)\u001b[0m\n\u001b[1;32m    427\u001b[0m             \u001b[0;32mreturn\u001b[0m \u001b[0mimg\u001b[0m\u001b[0;34m.\u001b[0m\u001b[0mresize\u001b[0m\u001b[0;34m(\u001b[0m\u001b[0;34m(\u001b[0m\u001b[0mow\u001b[0m\u001b[0;34m,\u001b[0m \u001b[0moh\u001b[0m\u001b[0;34m)\u001b[0m\u001b[0;34m,\u001b[0m \u001b[0minterpolation\u001b[0m\u001b[0;34m)\u001b[0m\u001b[0;34m\u001b[0m\u001b[0;34m\u001b[0m\u001b[0m\n\u001b[1;32m    428\u001b[0m     \u001b[0;32melse\u001b[0m\u001b[0;34m:\u001b[0m\u001b[0;34m\u001b[0m\u001b[0;34m\u001b[0m\u001b[0m\n\u001b[0;32m--> 429\u001b[0;31m         \u001b[0;32mreturn\u001b[0m \u001b[0mimg\u001b[0m\u001b[0;34m.\u001b[0m\u001b[0mresize\u001b[0m\u001b[0;34m(\u001b[0m\u001b[0msize\u001b[0m\u001b[0;34m[\u001b[0m\u001b[0;34m:\u001b[0m\u001b[0;34m:\u001b[0m\u001b[0;34m-\u001b[0m\u001b[0;36m1\u001b[0m\u001b[0;34m]\u001b[0m\u001b[0;34m,\u001b[0m \u001b[0minterpolation\u001b[0m\u001b[0;34m)\u001b[0m\u001b[0;34m\u001b[0m\u001b[0;34m\u001b[0m\u001b[0m\n\u001b[0m\u001b[1;32m    430\u001b[0m \u001b[0;34m\u001b[0m\u001b[0m\n\u001b[1;32m    431\u001b[0m \u001b[0;34m\u001b[0m\u001b[0m\n",
      "\u001b[0;32m/opt/anaconda3/lib/python3.7/site-packages/PIL/Image.py\u001b[0m in \u001b[0;36mresize\u001b[0;34m(self, size, resample, box, reducing_gap)\u001b[0m\n\u001b[1;32m   1933\u001b[0m                 )\n\u001b[1;32m   1934\u001b[0m \u001b[0;34m\u001b[0m\u001b[0m\n\u001b[0;32m-> 1935\u001b[0;31m         \u001b[0;32mreturn\u001b[0m \u001b[0mself\u001b[0m\u001b[0;34m.\u001b[0m\u001b[0m_new\u001b[0m\u001b[0;34m(\u001b[0m\u001b[0mself\u001b[0m\u001b[0;34m.\u001b[0m\u001b[0mim\u001b[0m\u001b[0;34m.\u001b[0m\u001b[0mresize\u001b[0m\u001b[0;34m(\u001b[0m\u001b[0msize\u001b[0m\u001b[0;34m,\u001b[0m \u001b[0mresample\u001b[0m\u001b[0;34m,\u001b[0m \u001b[0mbox\u001b[0m\u001b[0;34m)\u001b[0m\u001b[0;34m)\u001b[0m\u001b[0;34m\u001b[0m\u001b[0;34m\u001b[0m\u001b[0m\n\u001b[0m\u001b[1;32m   1936\u001b[0m \u001b[0;34m\u001b[0m\u001b[0m\n\u001b[1;32m   1937\u001b[0m     \u001b[0;32mdef\u001b[0m \u001b[0mreduce\u001b[0m\u001b[0;34m(\u001b[0m\u001b[0mself\u001b[0m\u001b[0;34m,\u001b[0m \u001b[0mfactor\u001b[0m\u001b[0;34m,\u001b[0m \u001b[0mbox\u001b[0m\u001b[0;34m=\u001b[0m\u001b[0;32mNone\u001b[0m\u001b[0;34m)\u001b[0m\u001b[0;34m:\u001b[0m\u001b[0;34m\u001b[0m\u001b[0;34m\u001b[0m\u001b[0m\n",
      "\u001b[0;31mKeyboardInterrupt\u001b[0m: "
     ]
    }
   ],
   "source": [
    "model = Discriminator()\n",
    "\n",
    "for i, batch_data in enumerate(train_dataloader):\n",
    "    print(i)\n",
    "#     print(batch_data)\n",
    "    x, labels = batch_data\n",
    "    outputs = model.forward(x)\n"
   ]
  },
  {
   "cell_type": "code",
   "execution_count": 41,
   "metadata": {},
   "outputs": [],
   "source": []
  },
  {
   "cell_type": "code",
   "execution_count": 44,
   "metadata": {},
   "outputs": [
    {
     "name": "stderr",
     "output_type": "stream",
     "text": [
      "Clipping input data to the valid range for imshow with RGB data ([0..1] for floats or [0..255] for integers).\n"
     ]
    },
    {
     "name": "stdout",
     "output_type": "stream",
     "text": [
      "torch.Size([3, 64, 64])\n"
     ]
    },
    {
     "data": {
      "text/plain": [
       "<matplotlib.image.AxesImage at 0x7fc67a194b90>"
      ]
     },
     "execution_count": 44,
     "metadata": {},
     "output_type": "execute_result"
    },
    {
     "data": {
      "image/png": "[encoded data removed]",
      "text/plain": [
       "<Figure size 432x288 with 1 Axes>"
      ]
     },
     "metadata": {
      "needs_background": "light"
     },
     "output_type": "display_data"
    }
   ],
   "source": [
    "import matplotlib.pyplot as plt\n",
    "import numpy as np\n",
    "\n",
    "zeroes = torch.randn(1, 100, 1, 1)\n",
    "\n",
    "gen = Generator()\n",
    "\n",
    "output = gen.forward(zeroes)\n",
    "print(output.squeeze().shape)\n",
    "\n",
    "im = output.detach().numpy()\n",
    "\n",
    "im = im.squeeze()\n",
    "im = np.transpose(im, (1, 2, 0))\n",
    "\n",
    "plt.imshow(im)"
   ]
  },
  {
   "cell_type": "code",
   "execution_count": 78,
   "metadata": {
    "scrolled": true
   },
   "outputs": [
    {
     "name": "stdout",
     "output_type": "stream",
     "text": [
      "[0/5][0/174]\tLoss_D: 1.4315\tLoss_G: 3.9339\tD(x): 0.5433\t\n",
      "[0/5][1/174]\tLoss_D: 1.1568\tLoss_G: 2.3623\tD(x): 0.4645\t\n",
      "[0/5][2/174]\tLoss_D: 1.1188\tLoss_G: 3.1148\tD(x): 0.6408\t\n",
      "[0/5][3/174]\tLoss_D: 0.9567\tLoss_G: 3.4087\tD(x): 0.6333\t\n",
      "[0/5][4/174]\tLoss_D: 0.8510\tLoss_G: 3.5186\tD(x): 0.6450\t\n",
      "[0/5][5/174]\tLoss_D: 0.8717\tLoss_G: 4.0973\tD(x): 0.7000\t\n",
      "[0/5][6/174]\tLoss_D: 0.7610\tLoss_G: 3.8023\tD(x): 0.6412\t\n",
      "[0/5][7/174]\tLoss_D: 0.6877\tLoss_G: 4.8782\tD(x): 0.7972\t\n",
      "[0/5][8/174]\tLoss_D: 0.7316\tLoss_G: 5.1207\tD(x): 0.7265\t\n",
      "[0/5][9/174]\tLoss_D: 0.7999\tLoss_G: 4.0470\tD(x): 0.6067\t\n",
      "[0/5][10/174]\tLoss_D: 0.6287\tLoss_G: 6.2107\tD(x): 0.8552\t\n",
      "[0/5][11/174]\tLoss_D: 0.3099\tLoss_G: 5.1473\tD(x): 0.8234\t\n",
      "[0/5][12/174]\tLoss_D: 0.6808\tLoss_G: 5.9108\tD(x): 0.7390\t\n",
      "[0/5][13/174]\tLoss_D: 0.4470\tLoss_G: 5.7712\tD(x): 0.7844\t\n",
      "[0/5][14/174]\tLoss_D: 0.5894\tLoss_G: 6.5613\tD(x): 0.7510\t\n",
      "[0/5][15/174]\tLoss_D: 0.3427\tLoss_G: 6.4528\tD(x): 0.8497\t\n",
      "[0/5][16/174]\tLoss_D: 0.3758\tLoss_G: 6.8076\tD(x): 0.8386\t\n",
      "[0/5][17/174]\tLoss_D: 0.4239\tLoss_G: 5.7250\tD(x): 0.7494\t\n",
      "[0/5][18/174]\tLoss_D: 0.6330\tLoss_G: 9.8665\tD(x): 0.9231\t\n",
      "[0/5][19/174]\tLoss_D: 0.4036\tLoss_G: 8.7713\tD(x): 0.7399\t\n",
      "[0/5][20/174]\tLoss_D: 0.2045\tLoss_G: 5.0992\tD(x): 0.8388\t\n"
     ]
    },
    {
     "ename": "KeyboardInterrupt",
     "evalue": "",
     "output_type": "error",
     "traceback": [
      "\u001b[0;31m---------------------------------------------------------------------------\u001b[0m",
      "\u001b[0;31mKeyboardInterrupt\u001b[0m                         Traceback (most recent call last)",
      "\u001b[0;32m<ipython-input-78-d4d79ea32d9e>\u001b[0m in \u001b[0;36m<module>\u001b[0;34m\u001b[0m\n\u001b[1;32m     60\u001b[0m \u001b[0mgen\u001b[0m \u001b[0;34m=\u001b[0m \u001b[0mGenerator\u001b[0m\u001b[0;34m(\u001b[0m\u001b[0;34m)\u001b[0m\u001b[0;34m.\u001b[0m\u001b[0mto\u001b[0m\u001b[0;34m(\u001b[0m\u001b[0mdevice\u001b[0m\u001b[0;34m)\u001b[0m\u001b[0;34m\u001b[0m\u001b[0;34m\u001b[0m\u001b[0m\n\u001b[1;32m     61\u001b[0m \u001b[0mdis\u001b[0m \u001b[0;34m=\u001b[0m \u001b[0mDiscriminator\u001b[0m\u001b[0;34m(\u001b[0m\u001b[0;34m)\u001b[0m\u001b[0;34m.\u001b[0m\u001b[0mto\u001b[0m\u001b[0;34m(\u001b[0m\u001b[0mdevice\u001b[0m\u001b[0;34m)\u001b[0m\u001b[0;34m\u001b[0m\u001b[0;34m\u001b[0m\u001b[0m\n\u001b[0;32m---> 62\u001b[0;31m \u001b[0mtrain\u001b[0m\u001b[0;34m(\u001b[0m\u001b[0mgen\u001b[0m\u001b[0;34m,\u001b[0m \u001b[0mdis\u001b[0m\u001b[0;34m,\u001b[0m \u001b[0mtrain_dataloader\u001b[0m\u001b[0;34m,\u001b[0m \u001b[0mdevice\u001b[0m\u001b[0;34m)\u001b[0m\u001b[0;34m\u001b[0m\u001b[0;34m\u001b[0m\u001b[0m\n\u001b[0m",
      "\u001b[0;32m<ipython-input-78-d4d79ea32d9e>\u001b[0m in \u001b[0;36mtrain\u001b[0;34m(gen, dis, train_dataloader, device, num_epochs)\u001b[0m\n\u001b[1;32m     20\u001b[0m             \u001b[0merror_real\u001b[0m \u001b[0;34m=\u001b[0m \u001b[0mnn\u001b[0m\u001b[0;34m.\u001b[0m\u001b[0mBCELoss\u001b[0m\u001b[0;34m(\u001b[0m\u001b[0;34m)\u001b[0m\u001b[0;34m(\u001b[0m\u001b[0mdiscrimator_real\u001b[0m\u001b[0;34m,\u001b[0m \u001b[0mreal_labels\u001b[0m\u001b[0;34m)\u001b[0m\u001b[0;34m\u001b[0m\u001b[0;34m\u001b[0m\u001b[0m\n\u001b[1;32m     21\u001b[0m \u001b[0;34m\u001b[0m\u001b[0m\n\u001b[0;32m---> 22\u001b[0;31m             \u001b[0merror_real\u001b[0m\u001b[0;34m.\u001b[0m\u001b[0mbackward\u001b[0m\u001b[0;34m(\u001b[0m\u001b[0mretain_graph\u001b[0m\u001b[0;34m=\u001b[0m\u001b[0;32mTrue\u001b[0m\u001b[0;34m)\u001b[0m\u001b[0;34m\u001b[0m\u001b[0;34m\u001b[0m\u001b[0m\n\u001b[0m\u001b[1;32m     23\u001b[0m \u001b[0;34m\u001b[0m\u001b[0m\n\u001b[1;32m     24\u001b[0m             \u001b[0mnoise\u001b[0m \u001b[0;34m=\u001b[0m \u001b[0mtorch\u001b[0m\u001b[0;34m.\u001b[0m\u001b[0mrandn\u001b[0m\u001b[0;34m(\u001b[0m\u001b[0;36m16\u001b[0m\u001b[0;34m,\u001b[0m \u001b[0;36m100\u001b[0m\u001b[0;34m,\u001b[0m \u001b[0;36m1\u001b[0m\u001b[0;34m,\u001b[0m \u001b[0;36m1\u001b[0m\u001b[0;34m)\u001b[0m\u001b[0;34m.\u001b[0m\u001b[0mto\u001b[0m\u001b[0;34m(\u001b[0m\u001b[0mdevice\u001b[0m\u001b[0;34m)\u001b[0m\u001b[0;34m\u001b[0m\u001b[0;34m\u001b[0m\u001b[0m\n",
      "\u001b[0;32m/opt/anaconda3/lib/python3.7/site-packages/torch/tensor.py\u001b[0m in \u001b[0;36mbackward\u001b[0;34m(self, gradient, retain_graph, create_graph)\u001b[0m\n\u001b[1;32m    219\u001b[0m                 \u001b[0mretain_graph\u001b[0m\u001b[0;34m=\u001b[0m\u001b[0mretain_graph\u001b[0m\u001b[0;34m,\u001b[0m\u001b[0;34m\u001b[0m\u001b[0;34m\u001b[0m\u001b[0m\n\u001b[1;32m    220\u001b[0m                 create_graph=create_graph)\n\u001b[0;32m--> 221\u001b[0;31m         \u001b[0mtorch\u001b[0m\u001b[0;34m.\u001b[0m\u001b[0mautograd\u001b[0m\u001b[0;34m.\u001b[0m\u001b[0mbackward\u001b[0m\u001b[0;34m(\u001b[0m\u001b[0mself\u001b[0m\u001b[0;34m,\u001b[0m \u001b[0mgradient\u001b[0m\u001b[0;34m,\u001b[0m \u001b[0mretain_graph\u001b[0m\u001b[0;34m,\u001b[0m \u001b[0mcreate_graph\u001b[0m\u001b[0;34m)\u001b[0m\u001b[0;34m\u001b[0m\u001b[0;34m\u001b[0m\u001b[0m\n\u001b[0m\u001b[1;32m    222\u001b[0m \u001b[0;34m\u001b[0m\u001b[0m\n\u001b[1;32m    223\u001b[0m     \u001b[0;32mdef\u001b[0m \u001b[0mregister_hook\u001b[0m\u001b[0;34m(\u001b[0m\u001b[0mself\u001b[0m\u001b[0;34m,\u001b[0m \u001b[0mhook\u001b[0m\u001b[0;34m)\u001b[0m\u001b[0;34m:\u001b[0m\u001b[0;34m\u001b[0m\u001b[0;34m\u001b[0m\u001b[0m\n",
      "\u001b[0;32m/opt/anaconda3/lib/python3.7/site-packages/torch/autograd/__init__.py\u001b[0m in \u001b[0;36mbackward\u001b[0;34m(tensors, grad_tensors, retain_graph, create_graph, grad_variables)\u001b[0m\n\u001b[1;32m    130\u001b[0m     Variable._execution_engine.run_backward(\n\u001b[1;32m    131\u001b[0m         \u001b[0mtensors\u001b[0m\u001b[0;34m,\u001b[0m \u001b[0mgrad_tensors_\u001b[0m\u001b[0;34m,\u001b[0m \u001b[0mretain_graph\u001b[0m\u001b[0;34m,\u001b[0m \u001b[0mcreate_graph\u001b[0m\u001b[0;34m,\u001b[0m\u001b[0;34m\u001b[0m\u001b[0;34m\u001b[0m\u001b[0m\n\u001b[0;32m--> 132\u001b[0;31m         allow_unreachable=True)  # allow_unreachable flag\n\u001b[0m\u001b[1;32m    133\u001b[0m \u001b[0;34m\u001b[0m\u001b[0m\n\u001b[1;32m    134\u001b[0m \u001b[0;34m\u001b[0m\u001b[0m\n",
      "\u001b[0;31mKeyboardInterrupt\u001b[0m: "
     ]
    }
   ],
   "source": [
    "device = torch.device(\"cuda:0\" if (torch.cuda.is_available() and ngpu > 0) else \"cpu\")\n",
    "\n",
    "\n",
    "def train(gen, dis, train_dataloader, device, num_epochs=5):\n",
    "    \n",
    "    optimizer_dis = optim.Adam(dis.parameters(), lr=2e-4, betas=(0.5, 0.999))\n",
    "    optimizer_gen = optim.Adam(gen.parameters(), lr=2e-4, betas=(0.5, 0.999))\n",
    "    \n",
    "    gen_losses = []\n",
    "    dis_losses = []\n",
    "\n",
    "    for epoch in range(num_epochs):\n",
    "        for i, batch_data in enumerate(train_dataloader):\n",
    "            \n",
    "            dis.zero_grad()\n",
    "            x  = batch_data[0].to(device)\n",
    "            real_labels = torch.ones(16, requires_grad=False, device=device).to(device)\n",
    "            discrimator_real = dis.forward(x.detach()).squeeze()\n",
    "            \n",
    "            error_real = nn.BCELoss()(discrimator_real, real_labels)\n",
    "\n",
    "            error_real.backward(retain_graph=True)\n",
    "\n",
    "            noise = torch.randn(16, 100, 1, 1).to(device)\n",
    "\n",
    "            fake_images = gen.forward(noise)\n",
    "            fake_labels = torch.zeros(16, device=device)\n",
    "\n",
    "            discrimator_fake = dis.forward(fake_images).squeeze()\n",
    "\n",
    "            error_fake = nn.BCELoss()(discrimator_fake, fake_labels)\n",
    "\n",
    "            error_fake.backward(retain_graph=True)\n",
    "\n",
    "            optimizer_dis.step()\n",
    "            gen.zero_grad()\n",
    "\n",
    "            dis_error = error_real + error_fake\n",
    "            dis_losses.append(dis_error.item())\n",
    "\n",
    "            output = dis.forward(fake_images).squeeze()\n",
    "\n",
    "            gen_error = nn.BCELoss()(output, real_labels)\n",
    "        \n",
    "            gen_losses.append(gen_error.item())\n",
    "\n",
    "            gen_error.backward(retain_graph=True)\n",
    "\n",
    "            optimizer_gen.step()\n",
    "            \n",
    "            accuracy = discrimator_real.mean().item()\n",
    "            \n",
    "            print('[%d/%d][%d/%d]\\tLoss_D: %.4f\\tLoss_G: %.4f\\tD(x): %.4f\\t'\n",
    "                  % (epoch, num_epochs, i, len(train_dataloader),\n",
    "                     dis_error.item(), gen_error.item(), accuracy))\n",
    "            \n",
    "        \n",
    "    return(gen_losses, dis_losses)\n",
    "\n",
    "gen = Generator().to(device)\n",
    "dis = Discriminator().to(device)\n",
    "train(gen, dis, train_dataloader, device)\n"
   ]
  },
  {
   "cell_type": "code",
   "execution_count": 74,
   "metadata": {},
   "outputs": [
    {
     "name": "stderr",
     "output_type": "stream",
     "text": [
      "Clipping input data to the valid range for imshow with RGB data ([0..1] for floats or [0..255] for integers).\n"
     ]
    },
    {
     "name": "stdout",
     "output_type": "stream",
     "text": [
      "torch.Size([3, 64, 64])\n"
     ]
    },
    {
     "data": {
      "text/plain": [
       "<matplotlib.image.AxesImage at 0x7fc66a60bbd0>"
      ]
     },
     "execution_count": 74,
     "metadata": {},
     "output_type": "execute_result"
    },
    {
     "data": {
      "image/png": "[encoded data removed]",
      "text/plain": [
       "<Figure size 432x288 with 1 Axes>"
      ]
     },
     "metadata": {
      "needs_background": "light"
     },
     "output_type": "display_data"
    }
   ],
   "source": [
    "zeroes = torch.randn(1, 100, 1, 1)\n",
    "\n",
    "output = gen.forward(zeroes)\n",
    "print(output.squeeze().shape)\n",
    "\n",
    "im = output.detach().numpy()\n",
    "\n",
    "im = im.squeeze()\n",
    "im = np.transpose(im, (1, 2, 0))\n",
    "\n",
    "plt.imshow(im)"
   ]
  },
  {
   "cell_type": "code",
   "execution_count": null,
   "metadata": {},
   "outputs": [],
   "source": []
  }
 ],
 "metadata": {
  "kernelspec": {
   "display_name": "Python 3",
   "language": "python",
   "name": "python3"
  },
  "language_info": {
   "codemirror_mode": {
    "name": "ipython",
    "version": 3
   },
   "file_extension": ".py",
   "mimetype": "text/x-python",
   "name": "python",
   "nbconvert_exporter": "python",
   "pygments_lexer": "ipython3",
   "version": "3.7.9"
  }
 },
 "nbformat": 4,
 "nbformat_minor": 5
}
